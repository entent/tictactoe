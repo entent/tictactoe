{
 "cells": [
  {
   "cell_type": "code",
   "execution_count": 2,
   "metadata": {},
   "outputs": [],
   "source": [
    "import numpy as np"
   ]
  },
  {
   "cell_type": "code",
   "execution_count": 3,
   "metadata": {},
   "outputs": [],
   "source": [
    "class GameBoard:\n",
    "    def __init__(self, dim=3):\n",
    "        self.grid = np.zeros((dim, dim), dtype=np.int)\n",
    "        self.dim = dim\n",
    "        self.game_over = False\n",
    "        self.game_has_winner = False\n",
    "        self.outcome = 0 #default value to be replaced by 1 for \"X\" or -1 for \"O\"\n",
    "    \n",
    "    def available_moves(self):\n",
    "        result = np.where(self.grid == 0)\n",
    "        listOfCoordinates = list(zip(result[0], result[1]))\n",
    "        return listOfCoordinates\n",
    "\n",
    "    #enter a move, 1 being \"X\", -1 being \"O\"\n",
    "    def update_state(self, position, val):\n",
    "        self.grid[position] = val\n",
    "    \n",
    "    def get_state(self):\n",
    "        return self.grid\n",
    "    \n",
    "    def view_state(self):\n",
    "        print(self.grid)\n",
    "        \n",
    "    def evaluate_position(self):\n",
    "        # first check if there is a winner\n",
    "        # if a row, column, or diagonal adds up to dim or -dim, it mean X or O has won, respectively\n",
    "        row_comp = np.any(np.abs(np.sum(self.grid, axis = 0)) == self.dim)\n",
    "        col_comp = np.any(np.abs(np.sum(self.grid, axis = 1)) == self.dim)\n",
    "        diag_comp = np.abs(np.trace(self.grid)) == self.dim\n",
    "        anti_diag_comp = np.abs(np.trace(np.flipud(self.grid))) == self.dim\n",
    "        if row_comp or col_comp or diag_comp or anti_diag_comp:\n",
    "            self.game_over = True\n",
    "            self.game_has_winner = True\n",
    "        # check if the grid is filled\n",
    "        # a draw, since, neither player has won by the above criteria\n",
    "        if not np.any(self.grid == 0):\n",
    "            self.game_over = True\n",
    "            self.game_has_winner = False\n",
    "    \n",
    "    def determine_winner(self):\n",
    "        self.evaluate_position()\n",
    "        if self.game_has_winner:\n",
    "            row_comp = np.any(np.sum(self.grid, axis = 0) == self.dim)\n",
    "            col_comp = np.any(np.sum(self.grid, axis = 1) == self.dim)\n",
    "            diag_comp = np.trace(self.grid) == self.dim\n",
    "            anti_diag_comp = np.trace(np.flipud(self.grid)) == self.dim\n",
    "            if row_comp or col_comp or diag_comp or anti_diag_comp:\n",
    "                self.outcome = 1\n",
    "            else:\n",
    "                self.outcome = -1\n",
    "    \n",
    "    def result(self):\n",
    "        self.determine_winner()\n",
    "        if self.game_over and self.game_has_winner:\n",
    "            if self.outcome == 1:\n",
    "                print(\"X won!\")\n",
    "            else:\n",
    "                print(\"O won!\")\n",
    "        elif self.game_over:\n",
    "            print(\"It's a draw\")\n",
    "        else:\n",
    "            print(\"Game in progress\")"
   ]
  },
  {
   "cell_type": "code",
   "execution_count": 7,
   "metadata": {},
   "outputs": [
    {
     "name": "stdout",
     "output_type": "stream",
     "text": [
      "[[0 0 0]\n",
      " [0 0 0]\n",
      " [0 0 0]]\n",
      "Row of move:1\n",
      "Column of move:1\n",
      "[[0 0 0]\n",
      " [0 1 0]\n",
      " [0 0 0]]\n",
      "Row of move:0\n",
      "Column of move:0\n",
      "[[-1  0  0]\n",
      " [ 0  1  0]\n",
      " [ 0  0  0]]\n",
      "Row of move:1\n",
      "Column of move:2\n",
      "[[-1  0  0]\n",
      " [ 0  1  1]\n",
      " [ 0  0  0]]\n",
      "Row of move:1\n",
      "Column of move:0\n",
      "[[-1  0  0]\n",
      " [-1  1  1]\n",
      " [ 0  0  0]]\n",
      "Row of move:2\n",
      "Column of move:0\n",
      "[[-1  0  0]\n",
      " [-1  1  1]\n",
      " [ 1  0  0]]\n",
      "Row of move:0\n",
      "Column of move:2\n",
      "[[-1  0 -1]\n",
      " [-1  1  1]\n",
      " [ 1  0  0]]\n",
      "Row of move:0\n",
      "Column of move:1\n",
      "[[-1  1 -1]\n",
      " [-1  1  1]\n",
      " [ 1  0  0]]\n",
      "Row of move:2\n",
      "Column of move:1\n",
      "[[-1  1 -1]\n",
      " [-1  1  1]\n",
      " [ 1 -1  0]]\n",
      "Row of move:2\n",
      "Column of move:2\n",
      "[[-1  1 -1]\n",
      " [-1  1  1]\n",
      " [ 1 -1  1]]\n",
      "It's a draw\n"
     ]
    }
   ],
   "source": [
    "new_game = GameBoard()\n",
    "move = 1 # 1 being the input for X\n",
    "while not new_game.game_over:\n",
    "    new_game.view_state()\n",
    "    row = int(input(\"Row of move:\"))\n",
    "    col = int(input(\"Column of move:\"))\n",
    "    new_game.update_state((row, col), move)\n",
    "    new_game.evaluate_position()\n",
    "    move *=-1\n",
    "\n",
    "new_game.view_state()\n",
    "new_game.result()"
   ]
  },
  {
   "cell_type": "code",
   "execution_count": 8,
   "metadata": {},
   "outputs": [
    {
     "data": {
      "text/plain": [
       "0"
      ]
     },
     "execution_count": 8,
     "metadata": {},
     "output_type": "execute_result"
    }
   ],
   "source": [
    "new_game.winner"
   ]
  }
 ],
 "metadata": {
  "kernelspec": {
   "display_name": "Python 3",
   "language": "python",
   "name": "python3"
  },
  "language_info": {
   "codemirror_mode": {
    "name": "ipython",
    "version": 3
   },
   "file_extension": ".py",
   "mimetype": "text/x-python",
   "name": "python",
   "nbconvert_exporter": "python",
   "pygments_lexer": "ipython3",
   "version": "3.7.4"
  }
 },
 "nbformat": 4,
 "nbformat_minor": 2
}
